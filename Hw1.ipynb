{
 "cells": [
  {
   "cell_type": "code",
   "execution_count": 44,
   "metadata": {},
   "outputs": [],
   "source": [
    "import numpy as np"
   ]
  },
  {
   "cell_type": "markdown",
   "metadata": {},
   "source": [
    "1. Створіть одновимірний масив (вектор) з першими 10-ма натуральними числами та виведіть його значення."
   ]
  },
  {
   "cell_type": "code",
   "execution_count": 45,
   "metadata": {},
   "outputs": [
    {
     "name": "stdout",
     "output_type": "stream",
     "text": [
      "[ 1  2  3  4  5  6  7  8  9 10]\n"
     ]
    }
   ],
   "source": [
    "a = np.array([1, 2, 3, 4, 5, 6, 7, 8, 9, 10], dtype=int)\n",
    "print(a)"
   ]
  },
  {
   "cell_type": "markdown",
   "metadata": {},
   "source": [
    "2. Створіть двовимірний масив (матрицю) розміром 3x3, заповніть його нулями та виведіть його значення."
   ]
  },
  {
   "cell_type": "code",
   "execution_count": 46,
   "metadata": {},
   "outputs": [
    {
     "name": "stdout",
     "output_type": "stream",
     "text": [
      "[[0 0 0]\n",
      " [0 0 0]\n",
      " [0 0 0]]\n"
     ]
    }
   ],
   "source": [
    "m = np.zeros((3,3), dtype=int)\n",
    "print(m)"
   ]
  },
  {
   "cell_type": "markdown",
   "metadata": {},
   "source": [
    "3. Створіть масив розміром 5x5, заповніть його випадковими цілими числами в діапазоні від 1 до 10 та виведіть його значення."
   ]
  },
  {
   "cell_type": "code",
   "execution_count": 47,
   "metadata": {},
   "outputs": [
    {
     "name": "stdout",
     "output_type": "stream",
     "text": [
      "[[ 1  6  2  3  9]\n",
      " [ 1  3  5  3  3]\n",
      " [ 5 10  9  6  3]\n",
      " [10  2  3 10  7]\n",
      " [ 1  3  4  9  4]]\n"
     ]
    }
   ],
   "source": [
    "a = np.random.randint(1, 11, (5, 5))\n",
    "print(a)"
   ]
  },
  {
   "cell_type": "markdown",
   "metadata": {},
   "source": [
    "4. Створіть масив розміром 4x4, заповніть його випадковими дійсними числами в діапазоні від 0 до 1 та виведіть його значення."
   ]
  },
  {
   "cell_type": "code",
   "execution_count": 58,
   "metadata": {},
   "outputs": [
    {
     "name": "stdout",
     "output_type": "stream",
     "text": [
      "[[0.09453949 0.01424534 0.51992333 0.88915996]\n",
      " [0.13139905 0.86516524 0.62777319 0.39078183]\n",
      " [0.72332725 0.26532063 0.34023781 0.64873882]\n",
      " [0.27177602 0.77550043 0.63515112 0.5437497 ]]\n"
     ]
    }
   ],
   "source": [
    "a = np.random.random((4, 4))\n",
    "print(a)"
   ]
  },
  {
   "cell_type": "markdown",
   "metadata": {},
   "source": [
    "5. Створіть два одновимірних масиви розміром 5, заповніть їх випадковими цілими числами в діапазоні від 1 до 10 та виконайте на них поелементні операції додавання, віднімання та множення."
   ]
  },
  {
   "cell_type": "code",
   "execution_count": 49,
   "metadata": {},
   "outputs": [
    {
     "name": "stdout",
     "output_type": "stream",
     "text": [
      "a =  [6 1 9 7 2]\n",
      "b =  [ 4  3 10  8  1]\n",
      "a + b =  [10  4 19 15  3]\n",
      "a - b =  [ 2 -2 -1 -1  1]\n",
      "a * b =  [24  3 90 56  2]\n"
     ]
    }
   ],
   "source": [
    "a = np.random.randint(1, 11, 5)\n",
    "print('a = ', a)\n",
    "b = np.random.randint(1, 11, 5)\n",
    "print('b = ', b)\n",
    "print('a + b = ', a + b)\n",
    "print('a - b = ', a - b)\n",
    "print('a * b = ', a * b)"
   ]
  },
  {
   "cell_type": "markdown",
   "metadata": {},
   "source": [
    "6. Створіть два вектори розміром 7, заповніть довільними числами та знайдіть їх скалярний добуток."
   ]
  },
  {
   "cell_type": "code",
   "execution_count": 50,
   "metadata": {},
   "outputs": [
    {
     "name": "stdout",
     "output_type": "stream",
     "text": [
      "a =  [0.6972419  0.60338471 0.88033393 0.80363968 0.6564765  0.7019297\n",
      " 0.44470997]\n",
      "b =  [0.90189408 0.0615027  0.74458222 0.36074439 0.34098279 0.54479718\n",
      " 0.56664566]\n",
      "(a, b) =  2.469587131158354\n"
     ]
    }
   ],
   "source": [
    "a = np.random.random(7)\n",
    "print('a = ', a)\n",
    "b = np.random.random(7)\n",
    "print('b = ', b)\n",
    "print('(a, b) = ', np.dot(a, b))"
   ]
  },
  {
   "cell_type": "markdown",
   "metadata": {},
   "source": [
    "7. Створіть дві матриці розміром 2x2 та 2x3, заповніть їх випадковими цілими числами в діапазоні від 1 до 10 та перемножте їх між собою."
   ]
  },
  {
   "cell_type": "code",
   "execution_count": 54,
   "metadata": {},
   "outputs": [
    {
     "name": "stdout",
     "output_type": "stream",
     "text": [
      "A =  [[5 7]\n",
      " [6 1]]\n",
      "B =  [[7 4 8]\n",
      " [9 8 3]]\n",
      "A * B =  [[98 76 61]\n",
      " [51 32 51]]\n"
     ]
    }
   ],
   "source": [
    "a = np.random.randint(1, 11, (2, 2))\n",
    "print('A = ', a)\n",
    "b = np.random.randint(1, 11, (2, 3))\n",
    "print('B = ', b)\n",
    "print('A * B = ', np.dot(a, b))"
   ]
  },
  {
   "cell_type": "markdown",
   "metadata": {},
   "source": [
    "8. Створіть матрицю розміром 3x3, заповніть її випадковими цілими числами в діапазоні від 1 до 10 та знайдіть її обернену матрицю."
   ]
  },
  {
   "cell_type": "code",
   "execution_count": 56,
   "metadata": {},
   "outputs": [
    {
     "name": "stdout",
     "output_type": "stream",
     "text": [
      "A =  [[ 6 10  2]\n",
      " [ 4  8  2]\n",
      " [ 6  9  8]]\n",
      "A^(-1) =  [[ 0.88461538 -1.19230769  0.07692308]\n",
      " [-0.38461538  0.69230769 -0.07692308]\n",
      " [-0.23076923  0.11538462  0.15384615]]\n"
     ]
    }
   ],
   "source": [
    "a = np.random.randint(1, 11, (3, 3))\n",
    "print('A = ', a)\n",
    "print('A^(-1) = ', np.linalg.inv(a))"
   ]
  },
  {
   "cell_type": "markdown",
   "metadata": {},
   "source": [
    "9. Створіть матрицю розміром 4x4, заповніть її випадковими дійсними числами в діапазоні від 0 до 1 та транспонуйте її."
   ]
  },
  {
   "cell_type": "code",
   "execution_count": 60,
   "metadata": {},
   "outputs": [
    {
     "name": "stdout",
     "output_type": "stream",
     "text": [
      "A =  [[0.46312311 0.52196655 0.49952799 0.09335109]\n",
      " [0.15845859 0.20928609 0.84981852 0.616244  ]\n",
      " [0.62016131 0.84318736 0.6695211  0.09167773]\n",
      " [0.41838761 0.03350085 0.20584901 0.82222421]]\n",
      "A^T =  [[0.46312311 0.15845859 0.62016131 0.41838761]\n",
      " [0.52196655 0.20928609 0.84318736 0.03350085]\n",
      " [0.49952799 0.84981852 0.6695211  0.20584901]\n",
      " [0.09335109 0.616244   0.09167773 0.82222421]]\n"
     ]
    }
   ],
   "source": [
    "a = np.random.random((4, 4))\n",
    "print('A = ', a)\n",
    "print('A^T = ', a.T)"
   ]
  },
  {
   "cell_type": "markdown",
   "metadata": {},
   "source": [
    "10. Cтворіть матрицю розміром 3x4 та вектор розміром 4, заповніть їх випадковими цілими числами в діапазоні від 1 до 10 та перемножте матрицю на вектор."
   ]
  },
  {
   "cell_type": "code",
   "execution_count": 64,
   "metadata": {},
   "outputs": [
    {
     "name": "stdout",
     "output_type": "stream",
     "text": [
      "A =  [[ 7 10  1  5]\n",
      " [ 5  9  7  2]\n",
      " [ 3  8  3  9]]\n",
      "b =  [8 1 4 7]\n",
      "A * b =  [105  91 107]\n"
     ]
    }
   ],
   "source": [
    "a = np.random.randint(1, 11, (3, 4))\n",
    "print('A = ', a)\n",
    "b = np.random.randint(1, 11, 4)\n",
    "print('b = ', b)\n",
    "print('A * b = ', np.dot(a, b))"
   ]
  },
  {
   "cell_type": "markdown",
   "metadata": {},
   "source": [
    "11. Створіть матрицю розміром 2x3 та вектор розміром 3, заповніть їх випадковими дійсними числами в діапазоні від 0 до 1 та перемножте матрицю на вектор."
   ]
  },
  {
   "cell_type": "code",
   "execution_count": 66,
   "metadata": {},
   "outputs": [
    {
     "name": "stdout",
     "output_type": "stream",
     "text": [
      "A =  [[0.51200301 0.43116845 0.1506974 ]\n",
      " [0.26501506 0.95026893 0.67388477]]\n",
      "b =  [0.27054689 0.41361792 0.78974896]\n",
      "A * b =  [0.43587293 0.99694705]\n"
     ]
    }
   ],
   "source": [
    "a = np.random.random((2, 3))\n",
    "print('A = ', a)\n",
    "b = np.random.random(3)\n",
    "print('b = ', b)\n",
    "print('A * b = ', np.dot(a, b))"
   ]
  },
  {
   "cell_type": "markdown",
   "metadata": {},
   "source": [
    "12. Створіть дві матриці розміром 2x2, заповніть їх випадковими цілими числами в діапазоні від 1 до 10 та виконайте їхнє поелементне множення."
   ]
  },
  {
   "cell_type": "code",
   "execution_count": 68,
   "metadata": {},
   "outputs": [
    {
     "name": "stdout",
     "output_type": "stream",
     "text": [
      "A =  [[1 2]\n",
      " [1 5]]\n",
      "B =  [[8 9]\n",
      " [9 3]]\n",
      "A * B =  [[ 8 18]\n",
      " [ 9 15]]\n"
     ]
    }
   ],
   "source": [
    "a = np.random.randint(1, 11, (2, 2))\n",
    "print('A = ', a)\n",
    "b = np.random.randint(1, 11, (2, 2))\n",
    "print('B = ', b)\n",
    "print('A * B = ', a * b)"
   ]
  },
  {
   "cell_type": "markdown",
   "metadata": {},
   "source": [
    "13. Створіть дві матриці розміром 2x2, заповніть їх випадковими цілими числами в діапазоні від 1 до 10 та знайдіть їх добуток."
   ]
  },
  {
   "cell_type": "code",
   "execution_count": 69,
   "metadata": {},
   "outputs": [
    {
     "name": "stdout",
     "output_type": "stream",
     "text": [
      "A =  [[5 8]\n",
      " [5 2]]\n",
      "B =  [[3 2]\n",
      " [2 4]]\n",
      "A * B =  [[31 42]\n",
      " [19 18]]\n"
     ]
    }
   ],
   "source": [
    "a = np.random.randint(1, 11, (2, 2))\n",
    "print('A = ', a)\n",
    "b = np.random.randint(1, 11, (2, 2))\n",
    "print('B = ', b)\n",
    "print('A * B = ', np.dot(a, b))"
   ]
  },
  {
   "cell_type": "markdown",
   "metadata": {},
   "source": [
    "14. Створіть матрицю розміром 5x5, заповніть її випадковими цілими числами в діапазоні від 1 до 100 та знайдіть суму елементів матриці."
   ]
  },
  {
   "cell_type": "code",
   "execution_count": 71,
   "metadata": {},
   "outputs": [
    {
     "name": "stdout",
     "output_type": "stream",
     "text": [
      "A =  [[17 98 81 81 31]\n",
      " [85  2 44 23 85]\n",
      " [94  4 79  2 68]\n",
      " [29 78 75 15 71]\n",
      " [67 40 19 26 10]]\n",
      "el_sum =  1224\n"
     ]
    }
   ],
   "source": [
    "a = np.random.randint(1, 101, (5, 5))\n",
    "print('A = ', a)\n",
    "print('el_sum = ', a.sum())"
   ]
  },
  {
   "cell_type": "markdown",
   "metadata": {},
   "source": [
    "15. Створіть дві матриці розміром 4x4, заповніть їх випадковими цілими числами в діапазоні від 1 до 10 та знайдіть їхню різницю."
   ]
  },
  {
   "cell_type": "code",
   "execution_count": 74,
   "metadata": {},
   "outputs": [
    {
     "name": "stdout",
     "output_type": "stream",
     "text": [
      "A =  [[ 7  7  6  1]\n",
      " [ 4 10  9  9]\n",
      " [ 8  7  9  5]\n",
      " [ 1  3  5  8]]\n",
      "B =  [[ 2  1 10  5]\n",
      " [ 8  7  2  4]\n",
      " [ 8 10  6  8]\n",
      " [ 2  1  7  9]]\n",
      "A - B =  [[ 5  6 -4 -4]\n",
      " [-4  3  7  5]\n",
      " [ 0 -3  3 -3]\n",
      " [-1  2 -2 -1]]\n"
     ]
    }
   ],
   "source": [
    "a = np.random.randint(1, 11, (4, 4))\n",
    "print('A = ', a)\n",
    "b = np.random.randint(1, 11, (4, 4))\n",
    "print('B = ', b)\n",
    "print('A - B = ', a - b)"
   ]
  },
  {
   "cell_type": "markdown",
   "metadata": {},
   "source": [
    "16. Створіть матрицю розміром 3x3, заповніть її випадковими дійсними числами в діапазоні від 0 до 1 та знайдіть вектор-стовпчик, що містить суму елементів кожного рядка матриці."
   ]
  },
  {
   "cell_type": "code",
   "execution_count": 79,
   "metadata": {},
   "outputs": [
    {
     "name": "stdout",
     "output_type": "stream",
     "text": [
      "A =  [[0.30739906 0.14632202 0.07576672]\n",
      " [0.79775108 0.83222098 0.74649387]\n",
      " [0.03235211 0.35206564 0.22778752]]\n",
      "sums =  [[0.5294878 ]\n",
      " [2.37646592]\n",
      " [0.61220527]]\n"
     ]
    }
   ],
   "source": [
    "a = np.random.random((3, 3))\n",
    "print('A = ', a)\n",
    "print('sums = ', (np.sum(a, axis=1)).reshape(-1, 1))"
   ]
  },
  {
   "cell_type": "markdown",
   "metadata": {},
   "source": [
    "17. Створіть матрицю розміром 3x4 з довільними цілими числами і створінь матрицю з квадратами цих чисел."
   ]
  },
  {
   "cell_type": "code",
   "execution_count": 86,
   "metadata": {},
   "outputs": [
    {
     "name": "stdout",
     "output_type": "stream",
     "text": [
      "A =  [[93 96 56 89]\n",
      " [61 57 30 28]\n",
      " [18 16 72  1]\n",
      " [78 10 33 36]]\n",
      "A ^ 2 =  [[8649 9216 3136 7921]\n",
      " [3721 3249  900  784]\n",
      " [ 324  256 5184    1]\n",
      " [6084  100 1089 1296]]\n"
     ]
    }
   ],
   "source": [
    "a = np.random.randint(1, 100, (4, 4))\n",
    "print('A = ', a)\n",
    "print('A ^ 2 = ', np.square(a))"
   ]
  },
  {
   "cell_type": "markdown",
   "metadata": {},
   "source": [
    "18. Створіть вектор розміром 4, заповніть його випадковими цілими числами в діапазоні від 1 до 50 та знайдіть вектор з квадратними коренями цих чисел."
   ]
  },
  {
   "cell_type": "code",
   "execution_count": 88,
   "metadata": {},
   "outputs": [
    {
     "name": "stdout",
     "output_type": "stream",
     "text": [
      "a =  [ 2 46  2 18]\n",
      "sqrt(a) =  [1.41421356 6.78232998 1.41421356 4.24264069]\n"
     ]
    }
   ],
   "source": [
    "a = np.random.randint(1, 51, 4)\n",
    "print('a = ', a)\n",
    "print('sqrt(a) = ', np.sqrt(a))"
   ]
  }
 ],
 "metadata": {
  "kernelspec": {
   "display_name": ".venv",
   "language": "python",
   "name": "python3"
  },
  "language_info": {
   "codemirror_mode": {
    "name": "ipython",
    "version": 3
   },
   "file_extension": ".py",
   "mimetype": "text/x-python",
   "name": "python",
   "nbconvert_exporter": "python",
   "pygments_lexer": "ipython3",
   "version": "3.10.6"
  },
  "orig_nbformat": 4
 },
 "nbformat": 4,
 "nbformat_minor": 2
}
